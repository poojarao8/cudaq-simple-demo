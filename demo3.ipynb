{
 "cells": [
  {
   "cell_type": "code",
   "execution_count": null,
   "id": "d47ba97d",
   "metadata": {},
   "outputs": [],
   "source": [
    "import cudaq\n",
    "cudaq.set_target('nvidia')"
   ]
  },
  {
   "cell_type": "code",
   "execution_count": null,
   "id": "14fe00bf",
   "metadata": {},
   "outputs": [],
   "source": [
    "def ghz_state(N):\n",
    "\n",
    "    kernel = cudaq.make_kernel()\n",
    "    q = kernel.qalloc(N)\n",
    "\n",
    "    kernel.h(q[0])\n",
    "    for i in range(N - 1):\n",
    "        kernel.cx(q[i], q[i + 1])\n",
    "\n",
    "    kernel.mz(q)\n",
    "    return kernel"
   ]
  },
  {
   "cell_type": "code",
   "execution_count": null,
   "id": "2c5a4c84",
   "metadata": {},
   "outputs": [],
   "source": [
    "n = 30\n",
    "print(\"Preparing GHZ state for\", n, \"qubits.\")\n",
    "kernel = ghz_state(n)\n",
    "counts = cudaq.sample(kernel)\n",
    "counts.dump()"
   ]
  }
 ],
 "metadata": {
  "kernelspec": {
   "display_name": "Python 3 (ipykernel)",
   "language": "python",
   "name": "python3"
  },
  "language_info": {
   "codemirror_mode": {
    "name": "ipython",
    "version": 3
   },
   "file_extension": ".py",
   "mimetype": "text/x-python",
   "name": "python",
   "nbconvert_exporter": "python",
   "pygments_lexer": "ipython3",
   "version": "3.10.6"
  }
 },
 "nbformat": 4,
 "nbformat_minor": 5
}
